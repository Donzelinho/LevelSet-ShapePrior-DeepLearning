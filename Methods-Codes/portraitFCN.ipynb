{
 "cells": [
  {
   "cell_type": "code",
   "execution_count": null,
   "metadata": {},
   "outputs": [],
   "source": [
    "import os\n",
    "caffe_root = '../caffe-portraitseg/'\n",
    "import sys\n",
    "sys.path.insert(0, caffe_root + 'python')"
   ]
  },
  {
   "cell_type": "code",
   "execution_count": null,
   "metadata": {},
   "outputs": [],
   "source": [
    "import numpy as np\n",
    "from matplotlib import pyplot as plt\n",
    "import caffe\n",
    "caffe.set_mode_cpu()"
   ]
  },
  {
   "cell_type": "code",
   "execution_count": null,
   "metadata": {},
   "outputs": [],
   "source": [
    "MODEL_FILE = './our_models/deploy_3channels.prototxt'\n",
    "PRETRAINED = './our_models/bgr.caffemodel'"
   ]
  },
  {
   "cell_type": "code",
   "execution_count": null,
   "metadata": {},
   "outputs": [],
   "source": [
    "net = caffe.Net(MODEL_FILE, PRETRAINED, caffe.TEST)"
   ]
  },
  {
   "cell_type": "code",
   "execution_count": null,
   "metadata": {},
   "outputs": [],
   "source": [
    "net.blobs['data'].reshape(1, 3, 800, 600)"
   ]
  },
  {
   "cell_type": "code",
   "execution_count": null,
   "metadata": {},
   "outputs": [],
   "source": [
    "# create transformer for the input called 'data'\n",
    "transformer = caffe.io.Transformer({'data': net.blobs['data'].data.shape})\n",
    "\n",
    "transformer.set_transpose('data', (2,0,1))  # move image channels to outermost dimension\n",
    "transformer.set_mean('data', np.asarray([122.675, 116.669, 114.008]))            # subtract the dataset-mean value in each channel\n",
    "transformer.set_raw_scale('data', 255)      # rescale from [0, 1] to [0, 255]\n",
    "transformer.set_channel_swap('data', (2,1,0))  # swap channels from RGB to BGR"
   ]
  },
  {
   "cell_type": "code",
   "execution_count": null,
   "metadata": {},
   "outputs": [],
   "source": [
    "image = caffe.io.load_image('00321.jpg')"
   ]
  },
  {
   "cell_type": "code",
   "execution_count": null,
   "metadata": {},
   "outputs": [],
   "source": [
    "transformed_image = transformer.preprocess('data', image)\n",
    "transformed_image /= 255"
   ]
  },
  {
   "cell_type": "code",
   "execution_count": null,
   "metadata": {},
   "outputs": [],
   "source": [
    "net.blobs['data'].data[...] = transformed_image"
   ]
  },
  {
   "cell_type": "code",
   "execution_count": null,
   "metadata": {},
   "outputs": [],
   "source": [
    "output = net.forward() "
   ]
  },
  {
   "cell_type": "code",
   "execution_count": null,
   "metadata": {},
   "outputs": [],
   "source": [
    "res = output['upscore']"
   ]
  },
  {
   "cell_type": "code",
   "execution_count": null,
   "metadata": {},
   "outputs": [],
   "source": [
    "res = res.reshape(res.shape[1:])"
   ]
  },
  {
   "cell_type": "code",
   "execution_count": null,
   "metadata": {},
   "outputs": [],
   "source": [
    "diffs = np.exp(res[1,:,:] - res[0,:,:])"
   ]
  },
  {
   "cell_type": "code",
   "execution_count": null,
   "metadata": {},
   "outputs": [],
   "source": [
    "finalres = diffs/(1+diffs)"
   ]
  },
  {
   "cell_type": "markdown",
   "metadata": {},
   "source": [
    "---"
   ]
  },
  {
   "cell_type": "code",
   "execution_count": 1,
   "metadata": {},
   "outputs": [],
   "source": [
    "import scipy.io as scio"
   ]
  },
  {
   "cell_type": "code",
   "execution_count": 2,
   "metadata": {},
   "outputs": [],
   "source": [
    "testlistPath = '../data/testlist.mat'\n",
    "outputPath = './Output_PortraitFCN/'"
   ]
  },
  {
   "cell_type": "code",
   "execution_count": 3,
   "metadata": {},
   "outputs": [],
   "source": [
    "testlist = scio.loadmat(testlistPath)['testlist']"
   ]
  },
  {
   "cell_type": "code",
   "execution_count": null,
   "metadata": {},
   "outputs": [],
   "source": [
    "for i in range(len(testlist)):\n",
    "    image = scio.loadmat('../data/portraitFCN_data/%05d.mat' % testlist[0][i])['img']\n",
    "    image = image.transpose((2,0,1))\n",
    "    net.blobs['data'].data[...] = image\n",
    "    output = net.forward() \n",
    "    res = output['upscore']\n",
    "    res = res.reshape(res.shape[1:])\n",
    "    scio.savemat(outputPath + '%05d_output.mat'% testlist[0][i], {'res':res})"
   ]
  },
  {
   "cell_type": "code",
   "execution_count": 12,
   "metadata": {},
   "outputs": [],
   "source": [
    "image = scio.loadmat('../data/portraitFCN_data/%05d.mat' % testlist[0][0])['img']"
   ]
  },
  {
   "cell_type": "code",
   "execution_count": 13,
   "metadata": {},
   "outputs": [
    {
     "data": {
      "text/plain": [
       "(800, 600, 3)"
      ]
     },
     "execution_count": 13,
     "metadata": {},
     "output_type": "execute_result"
    }
   ],
   "source": [
    "image.shape"
   ]
  },
  {
   "cell_type": "code",
   "execution_count": 15,
   "metadata": {},
   "outputs": [
    {
     "data": {
      "text/plain": [
       "array([[[-0.1961098 , -0.20003137, -0.19218824, ..., -0.11767843,\n",
       "         -0.11375686, -0.11375686],\n",
       "        [-0.1961098 , -0.1961098 , -0.19218824, ..., -0.11767843,\n",
       "         -0.11375686, -0.11375686],\n",
       "        [-0.18826667, -0.19218824, -0.19218824, ..., -0.11375686,\n",
       "         -0.11375686, -0.11375686],\n",
       "        ..., \n",
       "        [ 0.2038902 ,  0.2038902 ,  0.19996863, ...,  0.23134118,\n",
       "          0.23134118,  0.23134118],\n",
       "        [ 0.2038902 ,  0.19996863,  0.19996863, ...,  0.23134118,\n",
       "          0.23134118,  0.23134118],\n",
       "        [ 0.19996863,  0.19996863,  0.19996863, ...,  0.23134118,\n",
       "          0.23134118,  0.23134118]],\n",
       "\n",
       "       [[-0.21046667, -0.21438824, -0.21438824, ..., -0.18301569,\n",
       "         -0.17517255, -0.17517255],\n",
       "        [-0.21046667, -0.21046667, -0.21438824, ..., -0.18301569,\n",
       "         -0.17517255, -0.17517255],\n",
       "        [-0.20262353, -0.2065451 , -0.2065451 , ..., -0.17909412,\n",
       "         -0.17517255, -0.17517255],\n",
       "        ..., \n",
       "        [ 0.13855294,  0.13855294,  0.13463137, ...,  0.16600392,\n",
       "          0.16600392,  0.16600392],\n",
       "        [ 0.13855294,  0.13463137,  0.13463137, ...,  0.16600392,\n",
       "          0.16600392,  0.16600392],\n",
       "        [ 0.13463137,  0.13463137,  0.13463137, ...,  0.16600392,\n",
       "          0.16600392,  0.16600392]],\n",
       "\n",
       "       [[-0.19480392, -0.19872549, -0.20264706, ..., -0.18696078,\n",
       "         -0.19088235, -0.19088235],\n",
       "        [-0.19480392, -0.19480392, -0.20264706, ..., -0.18696078,\n",
       "         -0.19088235, -0.19088235],\n",
       "        [-0.18696078, -0.19088235, -0.19088235, ..., -0.18303922,\n",
       "         -0.19088235, -0.19088235],\n",
       "        ..., \n",
       "        [ 0.15813725,  0.15813725,  0.15421569, ...,  0.16205882,\n",
       "          0.16205882,  0.16205882],\n",
       "        [ 0.15813725,  0.15421569,  0.15421569, ...,  0.16205882,\n",
       "          0.16205882,  0.16205882],\n",
       "        [ 0.15421569,  0.15421569,  0.15421569, ...,  0.16205882,\n",
       "          0.16205882,  0.16205882]]])"
      ]
     },
     "execution_count": 15,
     "metadata": {},
     "output_type": "execute_result"
    }
   ],
   "source": [
    "image.transpose((2,0,1))"
   ]
  },
  {
   "cell_type": "code",
   "execution_count": null,
   "metadata": {},
   "outputs": [],
   "source": []
  }
 ],
 "metadata": {
  "kernelspec": {
   "display_name": "Python 2",
   "language": "python",
   "name": "python2"
  },
  "language_info": {
   "codemirror_mode": {
    "name": "ipython",
    "version": 3
   },
   "file_extension": ".py",
   "mimetype": "text/x-python",
   "name": "python",
   "nbconvert_exporter": "python",
   "pygments_lexer": "ipython3",
   "version": "3.6.5"
  }
 },
 "nbformat": 4,
 "nbformat_minor": 2
}
